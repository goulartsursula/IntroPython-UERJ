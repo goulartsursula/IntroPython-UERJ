{
  "nbformat": 4,
  "nbformat_minor": 0,
  "metadata": {
    "colab": {
      "name": "Victor_Soeiro_Aula_2_3.ipynb",
      "provenance": [],
      "collapsed_sections": [],
      "authorship_tag": "ABX9TyPzi9EqOmJesedh7OtQSoEH",
      "include_colab_link": true
    },
    "kernelspec": {
      "name": "python3",
      "display_name": "Python 3"
    }
  },
  "cells": [
    {
      "cell_type": "markdown",
      "metadata": {
        "id": "view-in-github",
        "colab_type": "text"
      },
      "source": [
        "<a href=\"https://colab.research.google.com/github/victor-soeiro/IntroPython-UERJ/blob/master/Victor_Soeiro_Aula_2_3.ipynb\" target=\"_parent\"><img src=\"https://colab.research.google.com/assets/colab-badge.svg\" alt=\"Open In Colab\"/></a>"
      ]
    },
    {
      "cell_type": "markdown",
      "metadata": {
        "id": "O2HChdccgpTm",
        "colab_type": "text"
      },
      "source": [
        "**Aula Dia 18.09.2020**\n",
        "\n",
        "**Exercício 3:** Se você fizer uma corrida de 10 quilômetros em 43 minutos e 30 segundos, qual será seu tempo médio por milha? Qual é a sua velocidade média em milhas por hora? (Dica: há 1,61 quilômetros em uma milha.)"
      ]
    },
    {
      "cell_type": "markdown",
      "metadata": {
        "id": "5eeteDozjHHl",
        "colab_type": "text"
      },
      "source": [
        "A distância da corrida é dada pela variável *d* em quilômetros.\n",
        "\n"
      ]
    },
    {
      "cell_type": "code",
      "metadata": {
        "id": "Jcj85udybLAn",
        "colab_type": "code",
        "colab": {}
      },
      "source": [
        "d = 10"
      ],
      "execution_count": 1,
      "outputs": []
    },
    {
      "cell_type": "markdown",
      "metadata": {
        "id": "gczJv6Vgj6Zk",
        "colab_type": "text"
      },
      "source": [
        "Convertendo para milhas,"
      ]
    },
    {
      "cell_type": "code",
      "metadata": {
        "id": "ED3WlJyRjTLB",
        "colab_type": "code",
        "colab": {}
      },
      "source": [
        "d = d / 1.61"
      ],
      "execution_count": 2,
      "outputs": []
    },
    {
      "cell_type": "markdown",
      "metadata": {
        "id": "abQK48gXklBc",
        "colab_type": "text"
      },
      "source": [
        "O tempo total da corrida é dado pela variável *t* em minutos."
      ]
    },
    {
      "cell_type": "code",
      "metadata": {
        "id": "v4CXKSGXkuGU",
        "colab_type": "code",
        "colab": {}
      },
      "source": [
        "t = 43.5"
      ],
      "execution_count": 3,
      "outputs": []
    },
    {
      "cell_type": "markdown",
      "metadata": {
        "id": "xHAKj9fyk1bZ",
        "colab_type": "text"
      },
      "source": [
        "Convertendo para horas,"
      ]
    },
    {
      "cell_type": "code",
      "metadata": {
        "id": "8PfSlaobk3bh",
        "colab_type": "code",
        "colab": {}
      },
      "source": [
        "t = 43.5 / 60."
      ],
      "execution_count": 4,
      "outputs": []
    },
    {
      "cell_type": "markdown",
      "metadata": {
        "id": "ufu5j_1LoV3s",
        "colab_type": "text"
      },
      "source": [
        "O tempo médio *T* por milha é dado pela divisão do tempo total pela distância total."
      ]
    },
    {
      "cell_type": "code",
      "metadata": {
        "id": "2M70doExomlR",
        "colab_type": "code",
        "colab": {
          "base_uri": "https://localhost:8080/",
          "height": 34
        },
        "outputId": "986a5d9b-74c6-4430-d300-1c94cc138ba6"
      },
      "source": [
        "T = t / d  # Em horas por milha.\n",
        "print(\"{:.2f}\".format(T) + \" horas por milha\")"
      ],
      "execution_count": 5,
      "outputs": [
        {
          "output_type": "stream",
          "text": [
            "0.12 horas por milha\n"
          ],
          "name": "stdout"
        }
      ]
    },
    {
      "cell_type": "markdown",
      "metadata": {
        "id": "Kt7HguTJk8Tw",
        "colab_type": "text"
      },
      "source": [
        "E, por fim, a velocidade média é representado pela variável *v*, é dado pela distância total dividido pelo tempo total."
      ]
    },
    {
      "cell_type": "code",
      "metadata": {
        "id": "IqjJnGg2lKWs",
        "colab_type": "code",
        "colab": {
          "base_uri": "https://localhost:8080/",
          "height": 34
        },
        "outputId": "6f6fdb37-2c66-4d99-b340-2c152ce0b738"
      },
      "source": [
        "v = d / t  # Em milhas por hora.\n",
        "print(\"{:.2f}\".format(v) + \" milhas por hora\")"
      ],
      "execution_count": 6,
      "outputs": [
        {
          "output_type": "stream",
          "text": [
            "8.57 milhas por hora\n"
          ],
          "name": "stdout"
        }
      ]
    }
  ]
}