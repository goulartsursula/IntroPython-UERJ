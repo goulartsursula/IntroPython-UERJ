{
  "nbformat": 4,
  "nbformat_minor": 0,
  "metadata": {
    "colab": {
      "name": "Victor_Soeiro_Aula_8.ipynb",
      "provenance": [],
      "authorship_tag": "ABX9TyN2i6WTRmo0P8xGRvzvj3TC",
      "include_colab_link": true
    },
    "kernelspec": {
      "name": "python3",
      "display_name": "Python 3"
    }
  },
  "cells": [
    {
      "cell_type": "markdown",
      "metadata": {
        "id": "view-in-github",
        "colab_type": "text"
      },
      "source": [
        "<a href=\"https://colab.research.google.com/github/victor-soeiro/IntroPython-UERJ/blob/master/Exerc%C3%ADcios/Victor_Soeiro_Aula_8.ipynb\" target=\"_parent\"><img src=\"https://colab.research.google.com/assets/colab-badge.svg\" alt=\"Open In Colab\"/></a>"
      ]
    },
    {
      "cell_type": "markdown",
      "metadata": {
        "id": "LXZ0DZEoUmvF"
      },
      "source": [
        "# Exercício 1\n",
        "\n",
        "Resolução numérica de equações diferenciais. Imagine que tem um/a maratonista treinando, que num trecho de $5 km$ tem velocidade quase constante de $12 km/h$. Produza uma lista distância percorrida em intervalos de 1 minuto."
      ]
    },
    {
      "cell_type": "code",
      "metadata": {
        "id": "yCPb7mPTUZsT"
      },
      "source": [
        "import numpy as np"
      ],
      "execution_count": 2,
      "outputs": []
    },
    {
      "cell_type": "code",
      "metadata": {
        "id": "Ff7TG8D9WHyG"
      },
      "source": [
        "import matplotlib.pyplot as plt"
      ],
      "execution_count": 3,
      "outputs": []
    },
    {
      "cell_type": "code",
      "metadata": {
        "id": "wI_leSpzVnsP",
        "outputId": "4cf16776-7e0f-4029-f6ef-3fc1b808a60c",
        "colab": {
          "base_uri": "https://localhost:8080/",
          "height": 282
        }
      },
      "source": [
        "d = 5  \n",
        "v = 12 \n",
        "\n",
        "t = d / v\n",
        "\n",
        "x = np.arange(0, t, 0.1)\n",
        "y = x * v\n",
        "\n",
        "plt.plot(x, y)\n",
        "plt.xlabel(\"Distância\")\n",
        "plt.ylabel(\"Tempo\")\n",
        "plt.show()\n"
      ],
      "execution_count": 5,
      "outputs": [
        {
          "output_type": "display_data",
          "data": {
            "image/png": "[encoded data removed]",
            "text/plain": [
              "<Figure size 432x288 with 1 Axes>"
            ]
          },
          "metadata": {
            "tags": [],
            "needs_background": "light"
          }
        }
      ]
    },
    {
      "cell_type": "code",
      "metadata": {
        "id": "kZ5Ve2WpVk5c"
      },
      "source": [
        ""
      ],
      "execution_count": null,
      "outputs": []
    }
  ]
}