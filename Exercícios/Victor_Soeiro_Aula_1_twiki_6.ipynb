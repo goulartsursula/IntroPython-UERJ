{
  "nbformat": 4,
  "nbformat_minor": 0,
  "metadata": {
    "colab": {
      "name": "Victor_Soeiro_Aula_1_twiki_6.ipynb",
      "provenance": [],
      "authorship_tag": "ABX9TyPGNwT8c4TYaPl1omGDQI1i",
      "include_colab_link": true
    },
    "kernelspec": {
      "name": "python3",
      "display_name": "Python 3"
    }
  },
  "cells": [
    {
      "cell_type": "markdown",
      "metadata": {
        "id": "view-in-github",
        "colab_type": "text"
      },
      "source": [
        "<a href=\"https://colab.research.google.com/github/victor-soeiro/IntroPython-UERJ/blob/master/Exerc%C3%ADcios/Victor_Soeiro_Aula_1_twiki_6.ipynb\" target=\"_parent\"><img src=\"https://colab.research.google.com/assets/colab-badge.svg\" alt=\"Open In Colab\"/></a>"
      ]
    },
    {
      "cell_type": "markdown",
      "metadata": {
        "id": "2On6GzPPQ8qS"
      },
      "source": [
        "**Aula dia 18.09.20**\n",
        "\n",
        "**Exercício 6:** Calcule a velocidade final de um objeto em queda livre a partir de 3 metros de altura (sem resistencia do ar). Calcule o tempo que esse objeto demora para cair."
      ]
    },
    {
      "cell_type": "markdown",
      "metadata": {
        "id": "PSeXlZbFbVeh"
      },
      "source": [
        "Definindo a altura total de queda."
      ]
    },
    {
      "cell_type": "code",
      "metadata": {
        "id": "q-_tPFIHbm6a"
      },
      "source": [
        "altura = 3  # Em metros."
      ],
      "execution_count": 1,
      "outputs": []
    },
    {
      "cell_type": "code",
      "metadata": {
        "id": "T-4rSKIQcm_f"
      },
      "source": [
        "GRAVIDADE = 9.8  # Em metros por segundo ao quadrado."
      ],
      "execution_count": 2,
      "outputs": []
    },
    {
      "cell_type": "markdown",
      "metadata": {
        "id": "PeoQe2UhcXH7"
      },
      "source": [
        "Considerando velocidade inicial nula, o tempo de queda será:"
      ]
    },
    {
      "cell_type": "code",
      "metadata": {
        "id": "vwbl5eflckKp",
        "outputId": "6bebf5fd-47b0-4c33-d53a-0d616e7bb1b1",
        "colab": {
          "base_uri": "https://localhost:8080/",
          "height": 34
        }
      },
      "source": [
        "from math import sqrt\n",
        "\n",
        "tempo_queda = sqrt((2 * altura) / GRAVIDADE)\n",
        "print(f\"{tempo_queda:.1f} segundos.\")"
      ],
      "execution_count": 3,
      "outputs": [
        {
          "output_type": "stream",
          "text": [
            "0.8 segundos.\n"
          ],
          "name": "stdout"
        }
      ]
    }
  ]
}