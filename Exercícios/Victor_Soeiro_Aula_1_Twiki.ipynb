{
  "nbformat": 4,
  "nbformat_minor": 0,
  "metadata": {
    "colab": {
      "name": "Victor_Soeiro_Aula_1_Twiki.ipynb",
      "provenance": [],
      "authorship_tag": "ABX9TyPmi/kh8YTHByKec29oLhtU",
      "include_colab_link": true
    },
    "kernelspec": {
      "name": "python3",
      "display_name": "Python 3"
    }
  },
  "cells": [
    {
      "cell_type": "markdown",
      "metadata": {
        "id": "view-in-github",
        "colab_type": "text"
      },
      "source": [
        "<a href=\"https://colab.research.google.com/github/victor-soeiro/IntroPython-UERJ/blob/master/Exerc%C3%ADcios/Victor_Soeiro_Aula_1_Twiki.ipynb\" target=\"_parent\"><img src=\"https://colab.research.google.com/assets/colab-badge.svg\" alt=\"Open In Colab\"/></a>"
      ]
    },
    {
      "cell_type": "markdown",
      "metadata": {
        "id": "eBOR05azxL0P"
      },
      "source": [
        "# Exercício 1"
      ]
    },
    {
      "cell_type": "markdown",
      "metadata": {
        "id": "XoA5bPDUxPjb"
      },
      "source": [
        "Se você fizer uma corrida de 10 quilômetros em 43 minutos e 30 segundos, qual será seu tempo médio por milha? Qual é a sua velocidade média em milhas por hora? (Dica: há 1,61 quilômetros em uma milha.)"
      ]
    },
    {
      "cell_type": "code",
      "metadata": {
        "id": "Qg4vDIpvyAAT",
        "outputId": "a5dda922-b820-46fb-9809-6e289dd6597f",
        "colab": {
          "base_uri": "https://localhost:8080/",
          "height": 51
        }
      },
      "source": [
        "d = 10 / 1.61  # Em milhas.\n",
        "t = 43.5 / 60  # Em horas.\n",
        "\n",
        "T = t / d\n",
        "print(f\"O tempo médio é {T:.2f}\", \"horas por milha.\")\n",
        "\n",
        "V = d / t\n",
        "print(f\"A velocidade média é {V:.2f}\", \"milhas por hora.\")"
      ],
      "execution_count": 1,
      "outputs": [
        {
          "output_type": "stream",
          "text": [
            "O tempo médio é 0.12 horas por milha.\n",
            "A velocidade média é 8.57 milhas por hora.\n"
          ],
          "name": "stdout"
        }
      ]
    },
    {
      "cell_type": "markdown",
      "metadata": {
        "id": "BX47VuqQyTEX"
      },
      "source": [
        "# Exercício 2"
      ]
    },
    {
      "cell_type": "markdown",
      "metadata": {
        "id": "NJ-zbpgkyVhC"
      },
      "source": [
        "Desde sua varanda você escuta o som do primeiro fogo artificial do reveillon 3 segundos depois de ver a luz, qual a distância? (o som tem velocidade 343 m/s e a luz $3\\times 10^8$ m/s)."
      ]
    },
    {
      "cell_type": "code",
      "metadata": {
        "id": "dkD-JuBGy76c",
        "outputId": "ca4dc34e-4505-4174-b0a4-fd453bf9fb6c",
        "colab": {
          "base_uri": "https://localhost:8080/",
          "height": 34
        }
      },
      "source": [
        "VELOCIDADE_SOM = 343  # Em metros por segundo.\n",
        "tempo = 3  # Em segundos.\n",
        "\n",
        "distancia = VELOCIDADE_SOM * tempo  # Em metros.\n",
        "print(f\"{distancia:.1f} metros.\")"
      ],
      "execution_count": 2,
      "outputs": [
        {
          "output_type": "stream",
          "text": [
            "1029.0 metros.\n"
          ],
          "name": "stdout"
        }
      ]
    },
    {
      "cell_type": "markdown",
      "metadata": {
        "id": "J6vH82mHyopK"
      },
      "source": [
        "# Exercício 3"
      ]
    },
    {
      "cell_type": "markdown",
      "metadata": {
        "id": "21xaAi6yzRjp"
      },
      "source": [
        "Ache os zeros da função: $y = 3x^2 - 4x -10$."
      ]
    },
    {
      "cell_type": "code",
      "metadata": {
        "id": "JpR9DDdezkeW",
        "outputId": "98cac1e2-c0c0-4c43-dc3c-78124a5560f9",
        "colab": {
          "base_uri": "https://localhost:8080/",
          "height": 34
        }
      },
      "source": [
        "from math import sqrt\n",
        "\n",
        "a = 3\n",
        "b = -4\n",
        "c = -10\n",
        "\n",
        "delta = b ** 2 - 4 * a * c\n",
        "\n",
        "zero_1 = (-b + sqrt(delta)) / (2 * a)\n",
        "zero_2 = (-b - sqrt(delta)) / (2 * a)\n",
        "\n",
        "print(f\"Os zeros da função são: {zero_1:.2f} e {zero_2:.2f}.\")"
      ],
      "execution_count": 3,
      "outputs": [
        {
          "output_type": "stream",
          "text": [
            "Os zeros da função são: 2.61 e -1.28.\n"
          ],
          "name": "stdout"
        }
      ]
    },
    {
      "cell_type": "markdown",
      "metadata": {
        "id": "SIGGh7pjyqc6"
      },
      "source": [
        "# Exercício 4"
      ]
    },
    {
      "cell_type": "markdown",
      "metadata": {
        "id": "0HLCN9Um0ENi"
      },
      "source": [
        "Se, ao meiodia, a sombra de um poste de 5 m de altura tem apenas 50 cm de comprimento no chão, qual o ângulo zenital do sol?"
      ]
    },
    {
      "cell_type": "code",
      "metadata": {
        "id": "FDYvOxWg0UCJ",
        "outputId": "41fb2949-3237-45fd-886f-e7051521a9fb",
        "colab": {
          "base_uri": "https://localhost:8080/",
          "height": 34
        }
      },
      "source": [
        "from math import atan, degrees\n",
        "\n",
        "poste = 5  # Em metros.\n",
        "sombra = 50 / 100  # Em metros.\n",
        "\n",
        "angulo = degrees(atan(poste / sombra))  # Em graus.\n",
        "print(f\"O ângulo é: {angulo:.2f}°.\")"
      ],
      "execution_count": 4,
      "outputs": [
        {
          "output_type": "stream",
          "text": [
            "O ângulo é: 84.29°.\n"
          ],
          "name": "stdout"
        }
      ]
    },
    {
      "cell_type": "markdown",
      "metadata": {
        "id": "tEAUAv2zysmg"
      },
      "source": [
        "# Exercício 5"
      ]
    },
    {
      "cell_type": "markdown",
      "metadata": {
        "id": "TIcaxIq60hWO"
      },
      "source": [
        "Calcule o seu $IMC = M/A^2$ (com a massa em Kg e a altura em metros). Um valor saudável estará -- em geral -- entre 20-25. Um bebê de 6 meses \"gorducho\" tem 70 cm de \"comprimento\" e 11 kg de massa, qual o IMC dele?"
      ]
    },
    {
      "cell_type": "code",
      "metadata": {
        "id": "Cb28k86-0msN",
        "outputId": "1a7752be-d805-45e7-cbba-1d49c2cf7257",
        "colab": {
          "base_uri": "https://localhost:8080/",
          "height": 34
        }
      },
      "source": [
        "altura = 70 / 100  # Em metros.\n",
        "massa = 11  # Em kg.\n",
        "\n",
        "IMC = massa / altura ** 2\n",
        "print(f\"O IMC é {IMC:.2f}.\")"
      ],
      "execution_count": 5,
      "outputs": [
        {
          "output_type": "stream",
          "text": [
            "O IMC é 22.45.\n"
          ],
          "name": "stdout"
        }
      ]
    },
    {
      "cell_type": "markdown",
      "metadata": {
        "id": "4iNliuXnyuoq"
      },
      "source": [
        "# Exercício 6"
      ]
    },
    {
      "cell_type": "markdown",
      "metadata": {
        "id": "Gx_o_z4G1QMw"
      },
      "source": [
        "Calcule a velocidade final de um objeto em queda livre a partir de 3 metros de altura (sem resistencia do ar). Calcule o tempo que esse objeto demora para cair.\n"
      ]
    },
    {
      "cell_type": "code",
      "metadata": {
        "id": "OMSKdwLG08r7",
        "outputId": "7644a474-f773-4dc1-d4b2-35480c13f153",
        "colab": {
          "base_uri": "https://localhost:8080/",
          "height": 34
        }
      },
      "source": [
        "from math import sqrt\n",
        "\n",
        "GRAVIDADE = 9.8  # Em m/s^2\n",
        "altura = 3  # Em metros.\n",
        "\n",
        "tempo_queda = sqrt((2 * altura) / GRAVIDADE)\n",
        "print(f\"O tempo de queda é {tempo_queda:.1f} segundos.\")"
      ],
      "execution_count": 6,
      "outputs": [
        {
          "output_type": "stream",
          "text": [
            "O tempo de queda é 0.8 segundos.\n"
          ],
          "name": "stdout"
        }
      ]
    }
  ]
}