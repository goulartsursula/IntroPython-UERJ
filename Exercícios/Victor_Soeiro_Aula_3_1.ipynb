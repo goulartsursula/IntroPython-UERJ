{
  "nbformat": 4,
  "nbformat_minor": 0,
  "metadata": {
    "colab": {
      "name": "Victor_Soeiro_Aula_3_1.ipynb",
      "provenance": [],
      "authorship_tag": "ABX9TyNTaDoJxWbuafFQuhtEyKhn",
      "include_colab_link": true
    },
    "kernelspec": {
      "name": "python3",
      "display_name": "Python 3"
    }
  },
  "cells": [
    {
      "cell_type": "markdown",
      "metadata": {
        "id": "view-in-github",
        "colab_type": "text"
      },
      "source": [
        "<a href=\"https://colab.research.google.com/github/victor-soeiro/IntroPython-UERJ/blob/master/Exerc%C3%ADcios/Victor_Soeiro_Aula_3_1.ipynb\" target=\"_parent\"><img src=\"https://colab.research.google.com/assets/colab-badge.svg\" alt=\"Open In Colab\"/></a>"
      ]
    },
    {
      "cell_type": "markdown",
      "metadata": {
        "id": "2On6GzPPQ8qS"
      },
      "source": [
        "**Aula 3 - 25.09.20**\n",
        "\n",
        "**Exercício 1:** Crie uma funcão que tome um argumento e imprima o valor e o tipo dele."
      ]
    },
    {
      "cell_type": "markdown",
      "metadata": {
        "id": "iQvyRQj_RZA7"
      },
      "source": [
        "Definindo a função com o nome *print_value_and_type*."
      ]
    },
    {
      "cell_type": "code",
      "metadata": {
        "id": "U0TB6JCPQ3wg"
      },
      "source": [
        "def print_value_and_type(a):\n",
        "  print(a, type(a))"
      ],
      "execution_count": 1,
      "outputs": []
    },
    {
      "cell_type": "markdown",
      "metadata": {
        "id": "RxlAjxXTRKri"
      },
      "source": [
        "Executando a função"
      ]
    },
    {
      "cell_type": "code",
      "metadata": {
        "id": "q5yLgjvwRPNm",
        "outputId": "a5f6b8c8-ecfa-42cd-c6ae-09b0767552e3",
        "colab": {
          "base_uri": "https://localhost:8080/",
          "height": 34
        }
      },
      "source": [
        "word = \"Python\"\n",
        "print_value_and_type(word)"
      ],
      "execution_count": 2,
      "outputs": [
        {
          "output_type": "stream",
          "text": [
            "Python <class 'str'>\n"
          ],
          "name": "stdout"
        }
      ]
    }
  ]
}