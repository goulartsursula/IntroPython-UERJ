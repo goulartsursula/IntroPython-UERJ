{
  "nbformat": 4,
  "nbformat_minor": 0,
  "metadata": {
    "colab": {
      "name": "Victor_Soeiro_Aula_3_5.ipynb",
      "provenance": [],
      "authorship_tag": "ABX9TyNjNZaqKqYQrksIko4uMyhU",
      "include_colab_link": true
    },
    "kernelspec": {
      "name": "python3",
      "display_name": "Python 3"
    }
  },
  "cells": [
    {
      "cell_type": "markdown",
      "metadata": {
        "id": "view-in-github",
        "colab_type": "text"
      },
      "source": [
        "<a href=\"https://colab.research.google.com/github/victor-soeiro/IntroPython-UERJ/blob/master/Exerc%C3%ADcios/Victor_Soeiro_Aula_3_5.ipynb\" target=\"_parent\"><img src=\"https://colab.research.google.com/assets/colab-badge.svg\" alt=\"Open In Colab\"/></a>"
      ]
    },
    {
      "cell_type": "markdown",
      "metadata": {
        "id": "9MJhM4B7wG-y"
      },
      "source": [
        "**Aula dia 25.09.20**\n",
        "\n",
        "**Exercício 5:** Crie funções para calcular os outros exemplos das aulas anteriores: IMC, volume de uma esfera, distancia entre pontos de máximos de difração. Decida quais serão os argumentos e o valor retornado."
      ]
    },
    {
      "cell_type": "markdown",
      "metadata": {
        "id": "npzdA7eOw4nC"
      },
      "source": [
        "Definindo a função para o IMC."
      ]
    },
    {
      "cell_type": "code",
      "metadata": {
        "id": "TcdmiFWmwCKr"
      },
      "source": [
        "def imc(altura, massa):\n",
        "  return altura / (massa ** 2)"
      ],
      "execution_count": null,
      "outputs": []
    },
    {
      "cell_type": "markdown",
      "metadata": {
        "id": "vOMd0bZBw6kA"
      },
      "source": [
        "Definindo a função para o volume da esfera."
      ]
    },
    {
      "cell_type": "code",
      "metadata": {
        "id": "tv5X9HxDwQ_C"
      },
      "source": [
        "def volume_esfera(raio):\n",
        "  return (4/3) * 3.14 * raio ** 3"
      ],
      "execution_count": null,
      "outputs": []
    },
    {
      "cell_type": "markdown",
      "metadata": {
        "id": "y-xJxZuBw67Q"
      },
      "source": [
        "Definindo a distância entre os pontos máximos de difração."
      ]
    },
    {
      "cell_type": "code",
      "metadata": {
        "id": "8RD97pYawRem"
      },
      "source": [
        "def maximos_difração(D, d, lambda_):\n",
        "  return (lambda_ * D) / d"
      ],
      "execution_count": null,
      "outputs": []
    }
  ]
}