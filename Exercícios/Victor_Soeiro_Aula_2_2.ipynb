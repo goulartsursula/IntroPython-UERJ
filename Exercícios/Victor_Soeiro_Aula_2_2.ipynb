{
  "nbformat": 4,
  "nbformat_minor": 0,
  "metadata": {
    "colab": {
      "name": "Victor_Soeiro_Aula_3_2.ipynb",
      "provenance": [],
      "authorship_tag": "ABX9TyPySdJP/qbGENrz7bYba7f4",
      "include_colab_link": true
    },
    "kernelspec": {
      "name": "python3",
      "display_name": "Python 3"
    }
  },
  "cells": [
    {
      "cell_type": "markdown",
      "metadata": {
        "id": "view-in-github",
        "colab_type": "text"
      },
      "source": [
        "<a href=\"https://colab.research.google.com/github/victor-soeiro/IntroPython-UERJ/blob/master/Exerc%C3%ADcios/Victor_Soeiro_Aula_3_2.ipynb\" target=\"_parent\"><img src=\"https://colab.research.google.com/assets/colab-badge.svg\" alt=\"Open In Colab\"/></a>"
      ]
    },
    {
      "cell_type": "markdown",
      "metadata": {
        "id": "WN7NKL6ghgY3",
        "colab_type": "text"
      },
      "source": [
        "**Aula 3 - 23.09.2020**\n",
        "\n",
        "**Exercício 2:** O volume de uma esfera de raio r é $\\frac{4}{3} \\pi r^{3}$\n",
        "\n",
        "Qual é o volume de uma esfera de raio 5?"
      ]
    },
    {
      "cell_type": "markdown",
      "metadata": {
        "id": "bEY0jTIbh97B",
        "colab_type": "text"
      },
      "source": [
        "Definindo *r* como a variável do raio da esfera."
      ]
    },
    {
      "cell_type": "code",
      "metadata": {
        "id": "So7fu-12hEGB",
        "colab_type": "code",
        "colab": {}
      },
      "source": [
        "r = 5"
      ],
      "execution_count": 1,
      "outputs": []
    },
    {
      "cell_type": "markdown",
      "metadata": {
        "id": "y1iPFXBTiEp-",
        "colab_type": "text"
      },
      "source": [
        "Definindo *PI* como a constante de $\\pi$."
      ]
    },
    {
      "cell_type": "code",
      "metadata": {
        "id": "t1NFqj2SiQYj",
        "colab_type": "code",
        "colab": {}
      },
      "source": [
        "PI = 3.14  # Aproximadamente."
      ],
      "execution_count": 2,
      "outputs": []
    },
    {
      "cell_type": "markdown",
      "metadata": {
        "id": "aikUYkGgiTec",
        "colab_type": "text"
      },
      "source": [
        "O volume, por fim, será dado pela variável *V*."
      ]
    },
    {
      "cell_type": "code",
      "metadata": {
        "id": "5ZZunYhViWoe",
        "colab_type": "code",
        "colab": {
          "base_uri": "https://localhost:8080/",
          "height": 34
        },
        "outputId": "e3aa5c7a-3cc4-4737-ea52-01bf92067b81"
      },
      "source": [
        "V = (4 / 3) * PI * r ** 3\n",
        "print(\"{:.2f}\".format(V))"
      ],
      "execution_count": 5,
      "outputs": [
        {
          "output_type": "stream",
          "text": [
            "523.33\n"
          ],
          "name": "stdout"
        }
      ]
    }
  ]
}
