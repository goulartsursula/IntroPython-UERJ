{
  "nbformat": 4,
  "nbformat_minor": 0,
  "metadata": {
    "colab": {
      "name": "Victor_Soeiro_Aula_1_twiki_3.ipynb",
      "provenance": [],
      "authorship_tag": "ABX9TyNotDu0wD+c2yUD46QA/gYU",
      "include_colab_link": true
    },
    "kernelspec": {
      "name": "python3",
      "display_name": "Python 3"
    }
  },
  "cells": [
    {
      "cell_type": "markdown",
      "metadata": {
        "id": "view-in-github",
        "colab_type": "text"
      },
      "source": [
        "<a href=\"https://colab.research.google.com/github/victor-soeiro/IntroPython-UERJ/blob/master/Exerc%C3%ADcios/Victor_Soeiro_Aula_1_twiki_3.ipynb\" target=\"_parent\"><img src=\"https://colab.research.google.com/assets/colab-badge.svg\" alt=\"Open In Colab\"/></a>"
      ]
    },
    {
      "cell_type": "markdown",
      "metadata": {
        "id": "2On6GzPPQ8qS"
      },
      "source": [
        "**Aula dia 18.09.20**\n",
        "\n",
        "**Exercício 3:** Ache os zeros da função:\n",
        " $y = 3x^2 - 4x -10$"
      ]
    },
    {
      "cell_type": "markdown",
      "metadata": {
        "id": "XyqdEKo7XtiR"
      },
      "source": [
        "Definindo os coeficientes da equação de segundo grau."
      ]
    },
    {
      "cell_type": "code",
      "metadata": {
        "id": "foeQ_oezXuUI"
      },
      "source": [
        "a = 3\n",
        "b = -4\n",
        "c = -10"
      ],
      "execution_count": 1,
      "outputs": []
    },
    {
      "cell_type": "markdown",
      "metadata": {
        "id": "eRb43IMVYmSc"
      },
      "source": [
        "Calculando o delta de bhaskara."
      ]
    },
    {
      "cell_type": "code",
      "metadata": {
        "id": "PObuQME2YAL2"
      },
      "source": [
        "delta = b ** 2 - 4 * a * c"
      ],
      "execution_count": 2,
      "outputs": []
    },
    {
      "cell_type": "markdown",
      "metadata": {
        "id": "EmkALi7hYs7z"
      },
      "source": [
        "Aplicando bhaskara."
      ]
    },
    {
      "cell_type": "code",
      "metadata": {
        "id": "az7eBtGwYE0b",
        "outputId": "57f58400-e071-4b1d-d37b-50bf0fb014ae",
        "colab": {
          "base_uri": "https://localhost:8080/",
          "height": 34
        }
      },
      "source": [
        "from math import sqrt\n",
        "\n",
        "zero_1 = (-b + sqrt(delta)) / (2 * a) \n",
        "zero_2 = (-b - sqrt(delta)) / (2 * a) \n",
        "\n",
        "print(f\"Os zeros da função são: {zero_1:.2f} e {zero_2:.2f}\")"
      ],
      "execution_count": 4,
      "outputs": [
        {
          "output_type": "stream",
          "text": [
            "Os zeros da função são: 2.61 e -1.28\n"
          ],
          "name": "stdout"
        }
      ]
    }
  ]
}