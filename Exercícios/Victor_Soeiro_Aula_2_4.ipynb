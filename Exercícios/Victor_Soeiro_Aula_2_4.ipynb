{
  "nbformat": 4,
  "nbformat_minor": 0,
  "metadata": {
    "colab": {
      "name": "Victor_Soeiro_Aula_3_4.ipynb",
      "provenance": [],
      "authorship_tag": "ABX9TyNdNbCC7+JAS68ryzgJ06uX",
      "include_colab_link": true
    },
    "kernelspec": {
      "name": "python3",
      "display_name": "Python 3"
    }
  },
  "cells": [
    {
      "cell_type": "markdown",
      "metadata": {
        "id": "view-in-github",
        "colab_type": "text"
      },
      "source": [
        "<a href=\"https://colab.research.google.com/github/victor-soeiro/IntroPython-UERJ/blob/master/Exerc%C3%ADcios/Victor_Soeiro_Aula_3_4.ipynb\" target=\"_parent\"><img src=\"https://colab.research.google.com/assets/colab-badge.svg\" alt=\"Open In Colab\"/></a>"
      ]
    },
    {
      "cell_type": "markdown",
      "metadata": {
        "id": "WN7NKL6ghgY3",
        "colab_type": "text"
      },
      "source": [
        "**Aula 3 - 23.09.2020**\n",
        "\n",
        "**Exercício 4:**  Um laser vermelho (com comprimento de onda $\\lambda = 632.8$ nm) incide em uma fenda dupla produzindo um padrão de interferência com franjas claras e escuras, em um anteparo situado a uma distância D = 1.98 m da fenda. Calcule a distância $\\Delta y$ entre dois máximos consecutivos de interferência. Considere o espaçamento entre as fendas, $d$, como sendo igual a 0.250 mm. \n",
        "\n",
        "Dica: a distância entre dois máximos de interferência consecutivos pode ser aproximada por $\\Delta y = \\frac{\\lambda D}{d}$.\n"
      ]
    },
    {
      "cell_type": "markdown",
      "metadata": {
        "id": "fMUVPzUZlOIa",
        "colab_type": "text"
      },
      "source": [
        "Definindo o comprimento de onda, em metros."
      ]
    },
    {
      "cell_type": "code",
      "metadata": {
        "id": "jXTnXU0PvHuX",
        "colab_type": "code",
        "colab": {}
      },
      "source": [
        "lambda_ = 632.8 * 10 ** (-9)"
      ],
      "execution_count": 1,
      "outputs": []
    },
    {
      "cell_type": "markdown",
      "metadata": {
        "id": "3MA3GJ3TvbUy",
        "colab_type": "text"
      },
      "source": [
        "Definindo a distância do anteparo a fenda, em metros."
      ]
    },
    {
      "cell_type": "code",
      "metadata": {
        "id": "BWPolsVnvH9d",
        "colab_type": "code",
        "colab": {}
      },
      "source": [
        "D = 1.98"
      ],
      "execution_count": 2,
      "outputs": []
    },
    {
      "cell_type": "markdown",
      "metadata": {
        "id": "U8V2a57Wv0h5",
        "colab_type": "text"
      },
      "source": [
        "Definindo o espaçamento entre as fendas, em metros."
      ]
    },
    {
      "cell_type": "code",
      "metadata": {
        "id": "OcK3t0rZu8ci",
        "colab_type": "code",
        "colab": {}
      },
      "source": [
        "d = 0.250 * 10 ** (-3)"
      ],
      "execution_count": 3,
      "outputs": []
    },
    {
      "cell_type": "markdown",
      "metadata": {
        "id": "RNGE3sNTw4jo",
        "colab_type": "text"
      },
      "source": [
        "A distância $\\Delta y$ entre os máximos consecutivos será:"
      ]
    },
    {
      "cell_type": "code",
      "metadata": {
        "id": "thHinqxuxNEe",
        "colab_type": "code",
        "colab": {
          "base_uri": "https://localhost:8080/",
          "height": 34
        },
        "outputId": "ff12538e-4fa8-4a10-edf5-4ab05dbebac4"
      },
      "source": [
        "delta_y = (lambda_ * D) / d\n",
        "print(delta_y)"
      ],
      "execution_count": 4,
      "outputs": [
        {
          "output_type": "stream",
          "text": [
            "0.005011776\n"
          ],
          "name": "stdout"
        }
      ]
    }
  ]
}
