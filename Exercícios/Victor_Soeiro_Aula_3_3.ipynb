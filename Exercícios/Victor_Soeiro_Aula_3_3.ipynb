{
  "nbformat": 4,
  "nbformat_minor": 0,
  "metadata": {
    "colab": {
      "name": "Victor_Soeiro_Aula_3_3.ipynb",
      "provenance": [],
      "authorship_tag": "ABX9TyPbr9pO0r6oRfpr8oFzQmh/",
      "include_colab_link": true
    },
    "kernelspec": {
      "name": "python3",
      "display_name": "Python 3"
    }
  },
  "cells": [
    {
      "cell_type": "markdown",
      "metadata": {
        "id": "view-in-github",
        "colab_type": "text"
      },
      "source": [
        "<a href=\"https://colab.research.google.com/github/victor-soeiro/IntroPython-UERJ/blob/master/Exerc%C3%ADcios/Victor_Soeiro_Aula_3_3.ipynb\" target=\"_parent\"><img src=\"https://colab.research.google.com/assets/colab-badge.svg\" alt=\"Open In Colab\"/></a>"
      ]
    },
    {
      "cell_type": "markdown",
      "metadata": {
        "id": "2On6GzPPQ8qS"
      },
      "source": [
        "**Aula dia 25.09.20**\n",
        "\n",
        "**Exercício 3:** Crie uma funcão para calcular o ángulo zenital do sol (da semana passada) tomando como argumento as medidas da altura e o comprimento da sombra."
      ]
    },
    {
      "cell_type": "markdown",
      "metadata": {
        "id": "URut17tWk0P8"
      },
      "source": [
        "Como vimos no exercício da semana passada, o ângulo zenital será o arco tangente do triângulo formado. Assim:"
      ]
    },
    {
      "cell_type": "code",
      "metadata": {
        "id": "8eVaaDTYk9yw"
      },
      "source": [
        "from math import atan, degrees\n",
        "\n",
        "def angulo_zenital(altura, sombra):\n",
        "  return degrees(atan(altura / sombra))"
      ],
      "execution_count": 1,
      "outputs": []
    },
    {
      "cell_type": "markdown",
      "metadata": {
        "id": "llDwsTv7k9cZ"
      },
      "source": [
        "Vamos fazer um teste. Seja a altura 5 metros e o comprimento da sombra 1.2 metros."
      ]
    },
    {
      "cell_type": "code",
      "metadata": {
        "id": "FaX8-4jVld6A",
        "outputId": "74bb93fb-8e36-4bff-9469-eef08586c360",
        "colab": {
          "base_uri": "https://localhost:8080/",
          "height": 34
        }
      },
      "source": [
        "print(f\"{angulo_zenital(5, 1.2):.1f}°\")"
      ],
      "execution_count": 2,
      "outputs": [
        {
          "output_type": "stream",
          "text": [
            "76.5°\n"
          ],
          "name": "stdout"
        }
      ]
    }
  ]
}