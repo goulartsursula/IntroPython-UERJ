{
  "nbformat": 4,
  "nbformat_minor": 0,
  "metadata": {
    "colab": {
      "name": "victor_soeiro_1_1.ipynb",
      "provenance": [],
      "authorship_tag": "ABX9TyN5zI53u/KyudUN/HfshLIs",
      "include_colab_link": true
    },
    "kernelspec": {
      "name": "python3",
      "display_name": "Python 3"
    }
  },
  "cells": [
    {
      "cell_type": "markdown",
      "metadata": {
        "id": "view-in-github",
        "colab_type": "text"
      },
      "source": [
        "<a href=\"https://colab.research.google.com/github/victor-soeiro/IntroPython-UERJ/blob/master/victor_soeiro_1_1.ipynb\" target=\"_parent\"><img src=\"https://colab.research.google.com/assets/colab-badge.svg\" alt=\"Open In Colab\"/></a>"
      ]
    },
    {
      "cell_type": "markdown",
      "metadata": {
        "id": "O2HChdccgpTm",
        "colab_type": "text"
      },
      "source": [
        "**Aula Dia 18.09.2020**\n",
        "\n",
        "**Exercício 1:** Se você fizer uma corrida de 10 quilômetros em 43 minutos e 30 segundos, qual será seu tempo médio por milha? Qual é a sua velocidade média em milhas por hora? (Dica: há 1,61 quilômetros em uma milha.)"
      ]
    },
    {
      "cell_type": "markdown",
      "metadata": {
        "id": "5eeteDozjHHl",
        "colab_type": "text"
      },
      "source": [
        "A distância da corrida é dada pela variável *d*.\n",
        "\n"
      ]
    },
    {
      "cell_type": "code",
      "metadata": {
        "id": "Jcj85udybLAn",
        "colab_type": "code",
        "colab": {}
      },
      "source": [
        "d = 10  # Em quilômetros."
      ],
      "execution_count": 1,
      "outputs": []
    },
    {
      "cell_type": "markdown",
      "metadata": {
        "id": "gczJv6Vgj6Zk",
        "colab_type": "text"
      },
      "source": [
        "Convertendo para milhas,"
      ]
    },
    {
      "cell_type": "code",
      "metadata": {
        "id": "ED3WlJyRjTLB",
        "colab_type": "code",
        "colab": {}
      },
      "source": [
        "d = d / 1.61  # Em milhas."
      ],
      "execution_count": 2,
      "outputs": []
    },
    {
      "cell_type": "markdown",
      "metadata": {
        "id": "abQK48gXklBc",
        "colab_type": "text"
      },
      "source": [
        "O tempo total da corrida é dado pela variável *t*."
      ]
    },
    {
      "cell_type": "code",
      "metadata": {
        "id": "v4CXKSGXkuGU",
        "colab_type": "code",
        "colab": {}
      },
      "source": [
        "t = 43.5  # Em minutos."
      ],
      "execution_count": 3,
      "outputs": []
    },
    {
      "cell_type": "markdown",
      "metadata": {
        "id": "xHAKj9fyk1bZ",
        "colab_type": "text"
      },
      "source": [
        "Convertendo para horas,"
      ]
    },
    {
      "cell_type": "code",
      "metadata": {
        "id": "8PfSlaobk3bh",
        "colab_type": "code",
        "colab": {}
      },
      "source": [
        "t = 43.5 / 60  # Em horas."
      ],
      "execution_count": 4,
      "outputs": []
    },
    {
      "cell_type": "markdown",
      "metadata": {
        "id": "Kt7HguTJk8Tw",
        "colab_type": "text"
      },
      "source": [
        "E, por fim, a velocidade média é representado pela variável *v* e dado pela distância total dividido pelo tempo total."
      ]
    },
    {
      "cell_type": "code",
      "metadata": {
        "id": "IqjJnGg2lKWs",
        "colab_type": "code",
        "colab": {
          "base_uri": "https://localhost:8080/",
          "height": 34
        },
        "outputId": "4bf7b133-1374-45c7-cda1-e04fd3d52586"
      },
      "source": [
        "v = d / t  # Em milhas por hora.\n",
        "print(\"{:.2f}\".format(v) + \" milhas por hora\")"
      ],
      "execution_count": 5,
      "outputs": [
        {
          "output_type": "stream",
          "text": [
            "8.57 milhas por hora\n"
          ],
          "name": "stdout"
        }
      ]
    }
  ]
}
