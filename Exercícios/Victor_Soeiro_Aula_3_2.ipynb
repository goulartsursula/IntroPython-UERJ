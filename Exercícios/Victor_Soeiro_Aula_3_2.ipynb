{
  "nbformat": 4,
  "nbformat_minor": 0,
  "metadata": {
    "colab": {
      "name": "Victor_Soeiro_Aula_3_2.ipynb",
      "provenance": [],
      "authorship_tag": "ABX9TyMdL7M52n+o96rc9AWflg7M",
      "include_colab_link": true
    },
    "kernelspec": {
      "name": "python3",
      "display_name": "Python 3"
    }
  },
  "cells": [
    {
      "cell_type": "markdown",
      "metadata": {
        "id": "view-in-github",
        "colab_type": "text"
      },
      "source": [
        "<a href=\"https://colab.research.google.com/github/victor-soeiro/IntroPython-UERJ/blob/master/Exerc%C3%ADcios/Victor_Soeiro_Aula_3_2.ipynb\" target=\"_parent\"><img src=\"https://colab.research.google.com/assets/colab-badge.svg\" alt=\"Open In Colab\"/></a>"
      ]
    },
    {
      "cell_type": "markdown",
      "metadata": {
        "id": "2On6GzPPQ8qS"
      },
      "source": [
        "**Aula dia 25.09.20**\n",
        "\n",
        "**Exercício 2:** Crie uma função que calcule e imprima velocidade media de um objeto a partir de uma posição inicial, a final e o tempo transcorrido para um objeto em MRU. Também crie uma funcão que calcule e imprima a velocidade de um objeto a partir da aceleração constante e o tempo (MRUA) (p.ex. queda livre)."
      ]
    },
    {
      "cell_type": "markdown",
      "metadata": {
        "id": "yVRS7PQzTaxx"
      },
      "source": [
        "Definindo a função para MRU."
      ]
    },
    {
      "cell_type": "code",
      "metadata": {
        "id": "psif3qUxTRNI"
      },
      "source": [
        "def movimento_uniforme(pos_inicial, pos_final, delta_t):\n",
        "  v = (pos_final - pos_inicial) / delta_t\n",
        "  print(f\"{v:.1f} m/s\")"
      ],
      "execution_count": 1,
      "outputs": []
    },
    {
      "cell_type": "markdown",
      "metadata": {
        "id": "pKUQwlvvUOKX"
      },
      "source": [
        "Realizando um teste com posição inicial em 0 metros, posição final em 10 metros e um total de tempo de 5 segundos."
      ]
    },
    {
      "cell_type": "code",
      "metadata": {
        "id": "ZlsN_Jd5UV1p",
        "outputId": "29566094-437e-4d5c-a44c-32b2e14c0f73",
        "colab": {
          "base_uri": "https://localhost:8080/",
          "height": 34
        }
      },
      "source": [
        "movimento_uniforme(0, 10, 5)"
      ],
      "execution_count": 2,
      "outputs": [
        {
          "output_type": "stream",
          "text": [
            "2.0 m/s\n"
          ],
          "name": "stdout"
        }
      ]
    },
    {
      "cell_type": "markdown",
      "metadata": {
        "id": "uzm-ohuJTeKv"
      },
      "source": [
        "Definindo a função para MRUA."
      ]
    },
    {
      "cell_type": "code",
      "metadata": {
        "id": "FZaYLNAxTggh"
      },
      "source": [
        "# Considerando v0 = 0.\n",
        "def movimento_acelerado(aceleracao, delta_t):\n",
        "  v = aceleracao * delta_t\n",
        "  print(f\"{v:.1f} m/s\")"
      ],
      "execution_count": 3,
      "outputs": []
    },
    {
      "cell_type": "markdown",
      "metadata": {
        "id": "HmPag3ewUbk-"
      },
      "source": [
        "Realizando um teste com um objeto em queda livre durante 5 segundos sob a ação da gravidade g = 9.8 m/s²."
      ]
    },
    {
      "cell_type": "code",
      "metadata": {
        "id": "KLEWbrunUpcb",
        "outputId": "bf7e1c3e-3a45-44e2-8beb-478b1cb3df62",
        "colab": {
          "base_uri": "https://localhost:8080/",
          "height": 34
        }
      },
      "source": [
        "movimento_acelerado(9.8, 5)"
      ],
      "execution_count": 4,
      "outputs": [
        {
          "output_type": "stream",
          "text": [
            "49.0 m/s\n"
          ],
          "name": "stdout"
        }
      ]
    }
  ]
}