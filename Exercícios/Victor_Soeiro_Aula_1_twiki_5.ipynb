{
  "nbformat": 4,
  "nbformat_minor": 0,
  "metadata": {
    "colab": {
      "name": "Victor_Soeiro_Aula_1_twiki_5.ipynb",
      "provenance": [],
      "authorship_tag": "ABX9TyMc76fPLVghRUdNFi1ZPWIx",
      "include_colab_link": true
    },
    "kernelspec": {
      "name": "python3",
      "display_name": "Python 3"
    }
  },
  "cells": [
    {
      "cell_type": "markdown",
      "metadata": {
        "id": "view-in-github",
        "colab_type": "text"
      },
      "source": [
        "<a href=\"https://colab.research.google.com/github/victor-soeiro/IntroPython-UERJ/blob/master/Exerc%C3%ADcios/Victor_Soeiro_Aula_1_twiki_5.ipynb\" target=\"_parent\"><img src=\"https://colab.research.google.com/assets/colab-badge.svg\" alt=\"Open In Colab\"/></a>"
      ]
    },
    {
      "cell_type": "markdown",
      "metadata": {
        "id": "2On6GzPPQ8qS"
      },
      "source": [
        "**Aula dia 18.09.20**\n",
        "\n",
        "**Exercício 5:** Calcule o seu $IMC = M/A^2$ (com a massa em Kg e a altura em metros). Um valor saudável estará -- em geral -- entre 20-25. Um bebê de 6 meses \"gorducho\" tem 70 cm de \"comprimento\" e 11 kg de massa, qual o IMC dele?"
      ]
    },
    {
      "cell_type": "markdown",
      "metadata": {
        "id": "PSeXlZbFbVeh"
      },
      "source": [
        "Definindo o comprimento e massa."
      ]
    },
    {
      "cell_type": "code",
      "metadata": {
        "id": "2kqfL-Qqbb4s"
      },
      "source": [
        "altura = 70 / 100  # Em metros.\n",
        "massa = 11  # Em kg."
      ],
      "execution_count": 1,
      "outputs": []
    },
    {
      "cell_type": "code",
      "metadata": {
        "id": "q-_tPFIHbm6a",
        "outputId": "a1c62299-834b-4d97-f72e-e515fac51ace",
        "colab": {
          "base_uri": "https://localhost:8080/",
          "height": 34
        }
      },
      "source": [
        "IMC = massa / altura ** 2\n",
        "print(f\"{IMC:.2f}\")"
      ],
      "execution_count": 2,
      "outputs": [
        {
          "output_type": "stream",
          "text": [
            "22.45\n"
          ],
          "name": "stdout"
        }
      ]
    }
  ]
}