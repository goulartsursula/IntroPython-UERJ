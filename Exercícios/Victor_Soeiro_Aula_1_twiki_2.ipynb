{
  "nbformat": 4,
  "nbformat_minor": 0,
  "metadata": {
    "colab": {
      "name": "Victor_Soeiro_Aula_1_twiki_2.ipynb",
      "provenance": [],
      "authorship_tag": "ABX9TyMLunUeJiAp6URdvH2C8+dP",
      "include_colab_link": true
    },
    "kernelspec": {
      "name": "python3",
      "display_name": "Python 3"
    }
  },
  "cells": [
    {
      "cell_type": "markdown",
      "metadata": {
        "id": "view-in-github",
        "colab_type": "text"
      },
      "source": [
        "<a href=\"https://colab.research.google.com/github/victor-soeiro/IntroPython-UERJ/blob/master/Exerc%C3%ADcios/Victor_Soeiro_Aula_1_twiki_2.ipynb\" target=\"_parent\"><img src=\"https://colab.research.google.com/assets/colab-badge.svg\" alt=\"Open In Colab\"/></a>"
      ]
    },
    {
      "cell_type": "markdown",
      "metadata": {
        "id": "2On6GzPPQ8qS"
      },
      "source": [
        "**Aula dia 18.09.20**\n",
        "\n",
        "**Exercício 2:** Desde sua varanda você escuta o som do primeiro fogo artificial do reveillon 3 segundos depois de ver a luz, qual a distância? (o som tem velocidade 343 m/s e a luz $3\\times 10^8$ m/s)."
      ]
    },
    {
      "cell_type": "markdown",
      "metadata": {
        "id": "b027fY4DWS9r"
      },
      "source": [
        "Definindo a constante da velocidade do som."
      ]
    },
    {
      "cell_type": "code",
      "metadata": {
        "id": "v2emdohcVtwq"
      },
      "source": [
        "VELOCIDADE_SOM = 343  # Em metros por segundo."
      ],
      "execution_count": 1,
      "outputs": []
    },
    {
      "cell_type": "markdown",
      "metadata": {
        "id": "fwhRgfMFWTXX"
      },
      "source": [
        "Definindo o tempo que demorou para escutar o som do primeiro fogo artificial.\n"
      ]
    },
    {
      "cell_type": "code",
      "metadata": {
        "id": "6jIAzZ36W6oD"
      },
      "source": [
        " tempo = 3  # Em segundos."
      ],
      "execution_count": 2,
      "outputs": []
    },
    {
      "cell_type": "markdown",
      "metadata": {
        "id": "m8ZehCUfW6RC"
      },
      "source": [
        "A distância será:"
      ]
    },
    {
      "cell_type": "code",
      "metadata": {
        "id": "1Iwzan1iWTmS",
        "outputId": "c85c07ef-d972-4d17-e837-e8d97dbf25f8",
        "colab": {
          "base_uri": "https://localhost:8080/",
          "height": 34
        }
      },
      "source": [
        "distancia = VELOCIDADE_SOM * tempo\n",
        "print(f\"{distancia:.1f} metros\")"
      ],
      "execution_count": 4,
      "outputs": [
        {
          "output_type": "stream",
          "text": [
            "1029.0 metros\n"
          ],
          "name": "stdout"
        }
      ]
    }
  ]
}