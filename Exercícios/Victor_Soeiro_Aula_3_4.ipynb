{
  "nbformat": 4,
  "nbformat_minor": 0,
  "metadata": {
    "colab": {
      "name": "Victor_Soeiro_Aula_3_4.ipynb",
      "provenance": [],
      "authorship_tag": "ABX9TyNW7dnSzQ/Xw7RR6dHkom58",
      "include_colab_link": true
    },
    "kernelspec": {
      "name": "python3",
      "display_name": "Python 3"
    }
  },
  "cells": [
    {
      "cell_type": "markdown",
      "metadata": {
        "id": "view-in-github",
        "colab_type": "text"
      },
      "source": [
        "<a href=\"https://colab.research.google.com/github/victor-soeiro/IntroPython-UERJ/blob/master/Exerc%C3%ADcios/Victor_Soeiro_Aula_3_4.ipynb\" target=\"_parent\"><img src=\"https://colab.research.google.com/assets/colab-badge.svg\" alt=\"Open In Colab\"/></a>"
      ]
    },
    {
      "cell_type": "markdown",
      "metadata": {
        "id": "2On6GzPPQ8qS"
      },
      "source": [
        "**Aula dia 25.09.20**\n",
        "\n",
        "**Exercício 4:** Crie uma função que faça a conversão de uma medida inicialmente em milhas para m, e outra para o inverso; uma de horas para segundos, e o inverso. Utilize estas funções para resolver novamente o primeiro exercício da semana passada (da corrida). Se uma pessoa demora 30 minutos em 4 milhas, qual velocidade media em km/h ? e o tempo medio por kilometro?"
      ]
    },
    {
      "cell_type": "markdown",
      "metadata": {
        "id": "54shJKadkRaN"
      },
      "source": [
        "Definindo as funções de conversão de distância e tempo."
      ]
    },
    {
      "cell_type": "code",
      "metadata": {
        "id": "ebjLgIDNhRB_"
      },
      "source": [
        "def quilometros(milhas):\n",
        "  return milhas * 1.60934  "
      ],
      "execution_count": 1,
      "outputs": []
    },
    {
      "cell_type": "code",
      "metadata": {
        "id": "5R4G26zshQ6F"
      },
      "source": [
        "def milhas(quilometros):\n",
        "  return quilometros / 1.60934"
      ],
      "execution_count": 2,
      "outputs": []
    },
    {
      "cell_type": "code",
      "metadata": {
        "id": "J3mxYAnJhQvG"
      },
      "source": [
        "def segundos(horas):\n",
        "  return horas * 3600"
      ],
      "execution_count": 3,
      "outputs": []
    },
    {
      "cell_type": "code",
      "metadata": {
        "id": "lJFHB2_qhQpo"
      },
      "source": [
        "def horas(segundos):\n",
        "  return segundos / 3600"
      ],
      "execution_count": 4,
      "outputs": []
    },
    {
      "cell_type": "markdown",
      "metadata": {
        "id": "tl6qPRGEkW-o"
      },
      "source": [
        "Definindo as variáveis de distância e tempo."
      ]
    },
    {
      "cell_type": "code",
      "metadata": {
        "id": "MN6-7fBIjmn1"
      },
      "source": [
        "distancia = 4  # Em milhas.\n",
        "tempo = 30 * 60  # Em segundos."
      ],
      "execution_count": 5,
      "outputs": []
    },
    {
      "cell_type": "code",
      "metadata": {
        "id": "PrfHyUWEkcx9"
      },
      "source": [
        "A velocidade média será,"
      ],
      "execution_count": null,
      "outputs": []
    },
    {
      "cell_type": "code",
      "metadata": {
        "id": "TlE3LN3DiEsL",
        "outputId": "93b73d6d-9339-4e7e-e4d6-35e5cccbd194",
        "colab": {
          "base_uri": "https://localhost:8080/",
          "height": 34
        }
      },
      "source": [
        "v_medio = quilometros(distancia) / horas(tempo)\n",
        "print(f\"{v_medio:.2f} km/h\")"
      ],
      "execution_count": 6,
      "outputs": [
        {
          "output_type": "stream",
          "text": [
            "12.87 km/h\n"
          ],
          "name": "stdout"
        }
      ]
    },
    {
      "cell_type": "markdown",
      "metadata": {
        "id": "0QpHtUxIkgfW"
      },
      "source": [
        "O tempo médio será,"
      ]
    },
    {
      "cell_type": "code",
      "metadata": {
        "id": "EBi_HdD-j5V9",
        "outputId": "3bfd98a5-1fa3-4b66-8cb1-9844970d8b69",
        "colab": {
          "base_uri": "https://localhost:8080/",
          "height": 34
        }
      },
      "source": [
        "t_medio = 1 / v_medio\n",
        "print(f\"{t_medio:.2f} h/km\")"
      ],
      "execution_count": 7,
      "outputs": [
        {
          "output_type": "stream",
          "text": [
            "0.08 h/km\n"
          ],
          "name": "stdout"
        }
      ]
    }
  ]
}