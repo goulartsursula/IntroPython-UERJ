{
  "nbformat": 4,
  "nbformat_minor": 0,
  "metadata": {
    "colab": {
      "name": "Victor_Soeiro_Aula_1_twiki_4.ipynb",
      "provenance": [],
      "authorship_tag": "ABX9TyOBLr4Cx2kqWXvvZXil0C3v",
      "include_colab_link": true
    },
    "kernelspec": {
      "name": "python3",
      "display_name": "Python 3"
    }
  },
  "cells": [
    {
      "cell_type": "markdown",
      "metadata": {
        "id": "view-in-github",
        "colab_type": "text"
      },
      "source": [
        "<a href=\"https://colab.research.google.com/github/victor-soeiro/IntroPython-UERJ/blob/master/Victor_Soeiro_Aula_1_twiki_4.ipynb\" target=\"_parent\"><img src=\"https://colab.research.google.com/assets/colab-badge.svg\" alt=\"Open In Colab\"/></a>"
      ]
    },
    {
      "cell_type": "markdown",
      "metadata": {
        "id": "2On6GzPPQ8qS"
      },
      "source": [
        "**Aula dia 18.09.20**\n",
        "\n",
        "**Exercício 4:** Se, ao meiodia, a sombra de um poste de 5 m de altura tem apenas 50 cm de comprimento no chão, qual o ângulo zenital do sol?\n",
        "\n",
        "![images.jfif](data:image/jpeg;base64,/9j/4AAQSkZJRgABAQAAAQABAAD/2wCEAAkGBxATEhUTEhQWFRUVFRgYFhgXFRoVGBgXFhUXGBgVFhgaHSggHholGxUYITEhJiotLi4uFx8zODMtNygtLisBCgoKBQUFDgUFDisZExkrKysrKysrKysrKysrKysrKysrKysrKysrKysrKysrKysrKysrKysrKysrKysrKysrK//AABEIAMABBwMBIgACEQEDEQH/xAAcAAEAAgMBAQEAAAAAAAAAAAAAAwQBBQYCBwj/xAA8EAABAwEFBQUGBAYCAwAAAAABAAIRAwQFEiExIkFRYZETUnGBoQYVIzKx4RTB0fAHM0JikvFTcpOisv/EABQBAQAAAAAAAAAAAAAAAAAAAAD/xAAUEQEAAAAAAAAAAAAAAAAAAAAA/9oADAMBAAIRAxEAPwD7iiIgIiICIiAiIgIiICIiAiIgLBco6lUDy9OZ5KhWr6jQwS3yzjxBjyKDYdsP3zBP5LArD9+E/RaCtfFITDhnTkCd8vy8dr0Uv45hkh0hoAMHUujIc4aB5lBvgVlULNaDv8T56nw3DjCvAoMoiICIiAiIgIiICIiAiIgIiICIiAiIgIi8l4QekUYrD9+E/Re2uQZREQEREBYKyvFXT/f5INfaXk5iCRO/rB1HgciuStdpdVOFsimDkNYO/PWOS3t/ud2TjhBygEuMiTqJaD6rUXXSGSCOldmWihtNlcwhzciDMhdrZbI2Fqb4oAeCCtcduxiDALc3EkSTuInLTKTounsr5H+/qdVwt2GLQIAMgjPTjPiu1soMyf8A5d9SUFxERAREQEREBERAREQEREBERAREQERRV3wPvHqgjq1s4BzifvzE5FUn2sAtJMAmM9xBkAn/ACHRVr2tvZsJI1OwRGTt0jTPMSNeC5osfUdidnJkgZAeAQdDSvWkcILwMnYs+Aw/SVes9pnDnm4YoG4E/XQDzXLOu3LRQsqvokwThMYgN43xwKDvaFcH968Y5Dip1pLDacQDsgHAQJ3bpjM/9Rktyw5fsIPSIiAvNQZfeF6RBob1snaMc0NEkGHEkRvnMknoFzd3V4yOUGCu0tNEb9Jz58J7x5aLQ3ldHaOBaYe4590NaI8zoJ4oLtmvOAqF5W3FOa1jbHXAGWoJEEZgalTUboqv+bIQHATmQdwOgKCO46GKqXbJwjQ754a6eC7GwUxqAB4AfVpj0VCyWMAANjCILZ1EmcyPRw03rb0GQOfPXzjVBMiIgIiICIiAiIgIiICIiAiIgIiICrWp/wC5I+gKsqvahlv6kejcyg5D2h/msGENyLjGeLcDAA+itXXRBhQe0VCC2oGloBwkk5mcxIJMefFLstQEIOkrWNuFcxelIAnktxaLz2Vz15WqUGy9l3OwEADJxEjFiOh/pzjPiups+n2I+q5f2es0MEtaS7MEQ457iDGkbiunswgf7HodEEyIiAiIgw4KtVs+sZZR+Q6SSrSINPaLK/HSLIDQ4h4yzpkER1a0qxSs2TRwaBPKI+rQV7trGl9GTBFQ4REyezeI5ZEnyV1BFTpR++OvkpURAREQEREBERAREQEREBERAREQEREBeKjZH7C9og09tsocCCAZECdADvA3chqSuctN1VGH4ZxNxYRxJ3xyBBHku2q0p/e/iqrrNmOA05TDR6Yj5oOLfTrmAGGSSBpqNd6s3bdJcQ+oYkYm7xIzId5AmORXTNs3y5aEn/PtP1C90rJI4TnlqJ2pHMOnyKDzZqEnQCYkDMHmRvB3OELZNCqWAkg4mYHNcRG7kWne0iDy03K4gLmmXwynVtDyw4cBqMIxS8Udl42tmZiI3ELpCFVrXbRc1rHMBawENHAFpYR4YSQgoV/aANxA0nY2lwwyM8NNtSARqSHCBxB4Lxed9RRqFoLXRXaDlsuoscSfRWLxuhtRwcIBlxObgS4tDA+WkGQ0R5r1Z7rs5GYbUdBa5xzJOEMqEjvEaoPNC9wXNGHZfVfRa6czUph5dLdw+G4Ty5raqk2jQbVAAAqEOeMtwwtc7hO00E65q6gqW0w6ls4via93Yftfl5q2q1sDpZhcG/EGKTGJsO2RxMxlyVlAREQEREBERAREQEREBERAREQEREBERAREQEREGIWYREFW104LagJGAOxACcTSM24eMgEb8uano1WvaHNMtcAQRvB0K9qozEx8bIpEDDo3C+YLeczI5goLa5u21LS51Y0u1bhIa1paYcMbO0qNkR8uINAPE7wukWEHN2ijaiHFj6pilUcyAWfExNNNpxZmBOuoOaxWpWhtU1Cx7yBaWsAcQNqpSLBkdMLXR4eC29W9aclrJqOGRbTGKDwcflb5kLyPxT+5RH/lf+TQf8kFG6bPXFZrqgdha20NBd3XVaLqYzJOjXa8Fbvm+6VClUfjY57GOcGYwC4tBOHec/BSe6GH+Y59X/u4x/g2G+isCxUgwsDGta4FpDQG5EQdEHNXL7WWe3BkMqsc2ozItlocZgYxlxy1XWhaxthp0KdOnRpNwNqMAaB8oJgv8RrK2QQZREQEREBERAREQEREBERAREQEREBERAREQEREBERAUNrs7ajCxwkEeB5EHcQcwVMiDk/bC2W40H0bJReapdgc8EDDTicbSSJLhlloZ4BWfZ2y161nYbaKgqAYXUnQ1mzliIadqRBzJGegW7tVFxLXNcWlrpI1Dm6OaR6jgQF7s1Zr2hzTIIkFB6p02tADQABoAIA8AFzle11haiJgC0MaBiP8k0MTjhiIxYji4t5LplHVpSDGRIIDoEieEoM0qjXCWkEcQZGS9qvYbKKbAwGQN8QTvJPMnMnmrCCreAMNh2D4jM5iRiGz56eatBU7zwYRjkjtKcR3u0bhPhMK4EBERAREQEREBERAREQEREBERAREQEREBERAREQEREBERAVQBzHwGtFMgkkZEPJmTxDp6+KtqO0UGvaWOEhwgoJEVWy1s3UzMsw5u/qBGT5HMEeIVpAREQVrcXYdloccbMiJyxtxHyEnyUV43vQoYe1qNaXuDWAnacSYAaNTmVJeTZZ82DaYZ8KjTHnp5rn/AGi9h7Paara4LmVQ5pJkua4NIOEtJyyGohB1SKh7ns//ABj1/Veqd1WdpDhTaCMwYzBQBeDcNV0R2Ti04iGgkBpmTu2t6jtt8UmMqEOa51Nr3FuLufMPLfwUVW63kVm4xhrEu+TNpLWtyOKCNmdN68Wi4g5rm4yMRrnT/nmekoL3vKjhLsYgGCeBABM8MiDnxXq2W1lMbRzIMDUnCJOm7mtfb7i7TtPiOaKuLE2JG1SbTnXMjBIniVbtdgL3McHFrmtcyYBlr8OLI75aCDyQeLBe1N7KZJAc9rCRmQHVGBwZi0mDkFNabxpU3BrzhJkiQYhrS4nFEZAEnPJUbJcLGNawPcWg0nEGM3UWMa0zu/ltJHLmprVdIqPe57yWvpmmWQIDCCHBp1GKZJ5Dgg80L6ZG3k8ujA0OcflLxlhBzYJ03FehfFPE0DaDyA0tkgA0jUDncAQ1erPdTWlhmSwkghrWzsFm1hAnIqKlcVNoYAXbGCNMwyk6lBy3tcZQW7FeFOqSGGYa13DZfOFw5GD0VtVLusDaLcLSSAABIbkG5ASACct5VtARFhrgdM0GUREBERAREQEREBERAREQEREFe103kDA6CHA56Eb2nyJ84UlGs1wxNMg7xyMFSKoGljwGsGF5cXkah5AIcRwMGeccUFtERBUvSpRFMms4MYC0lznYQCHAjM8wFZpvDgC0ggiQRmCDvBXDfxctFH8IKbqjRU7RjmskYnAGDlqAASZ5LYfw9vezVLJRosqtdUp0mh7NHAgZ5HUDiMkHVoiINHa79NMvJYCxlR1Mw6XEil2oIbHlrzXqne1YmkOyA7RwAJcQMPZOqEjKSRhjzCu2e7WNe+oQC57y6S0S2WNZAPg31U1KyU2xhY0QZENAgkRI8iUGkb7RPimSxvxWtc3C4nDiqMpnHp3x0IUle+azSQWMGBrXul2oNVzNmNMmznxhbCw3ZTp0wzC07IBJaJcB3uKtCgyIwtiI0GmsIOYt96uLmv2YFO1QwOc13wnNbtQddk+ErYOvd+Fz9gBtXsy0ziAFZtMvJnTCS7TQhbfsGSThbJ1yGc6yhotzMCSIOQzHAoNA69h2uMkAAVqYIGIGK1Fjd/F2sgKzdN6VarwDgDQwl0CSXCrUpwDMAbAO/Vbfs26QI8F6DQg0Frvx4qOayHABwzbBaWVKbXEiZLQHudoJDclcZbahZWIwk03Qxxya4YGuknkXETpktnhCQg0FO9axzgiDSDWuaJqBz8LzIMZZ5jLKdCobFbKzKYa0RhFLA3D/ADMTyH58h01OS6WEhBlERAREQEREBERAREQEREBERAXitTDgWnMEEEcjqvaIKlkqhp7Elxc1oMu/qbpiHGDkfLirLyYMCTGQ0k8JUNtpvLfhkB4zE6GCDhOWQMRIUlGqHCQQcyDBmCDBHkUH5svm11KterUq/O6o7FnMEOIwjkNAsXfbX0ajKrDDmODgdNDMeB0U1/WJ1Oq8uIl1asI3jBVIM+M5KCx0mOFXEYw0nOb/ANsTAB0JQfpWzVcTGuH9TQcuYlSKrdbMNGk3hTYOjQrSAiIgIiICIiAiIgIiICIiAiIgIiICLVWW+mOx4i1uB2EtkmoHYy1oLInayIjWVk3uzHEjBhM5HFjFRrMEazLtI4INoihs1pa8EtOhIO4gjUEHepkBERAREQEREBERAVOo3s3gtZIqP+IRORiA+OGQBPgVcWHCUHwz+J9zfh7Y54Miviq6RhMw4c84PmqNw+zvbW4WSo7BmcRjOGjFA8RvXUfxjsRYyykkugVmSdY2C0E7yACJ3wsWSBf9P+5rD1sgQfWKNMNaGjRoAHgBAXtEQEREBERAREQEREBERAREQEREBYKyhQc7aKVJ7g95e57fkMNBbDw8aa5tAz3eJXjsaBOI9pikunZG0XtfijkWNEcFdddb+LfX9EbdL+LfVBiyWunTxQHEvcXuJiS4xnlyAHkp/eze6fRRe6X94eqwbpf3m9CgmN7N7p6hYF7DunqvAul3eHQoLoPeHRB7N7juHr9lg3v/AGev2WPdB73ose6D3/T7oM+9/wCz/wBvsnvc90dfssi6f7vT7rPukd49EHn3ue6Oq8i93dwdVIboHfPRZN0jvHogi97O7o6ryb3d3R6qZtzt7x9F690M4n0QfPv4n2x1oFnszWg1H1C5sbhGDPxxeigvay1rPbLJbGMNUgU6dUNB+ZrOzLo3AtPovpBuhnF2Xh+i9C6afF3Ufogq+9H8G9PuhvR/Lorfuqnxd1+ye6qfPqgoe9avLos+86vEdFeF1U+fVZF10ufVBR95VOI6LBvKrxHRbAXbS4HqVn3dS4HqUGtN41ePoFn8fV4+gWx93Uu76n9VkXfS7vqf1Qaw2+p3vQI23VO8egW0Fgpd31P6rP4Gl3R6oNSbbU7x6BY/GVO8Vt/wVPuhZ/B0+6OiDTutdTvHqvVK1PxCXHUb/Bbf8JT7o6J+Fp91vRBMiIg//9k=)"
      ]
    },
    {
      "cell_type": "markdown",
      "metadata": {
        "id": "WAp2o95ld0qz"
      },
      "source": [
        "Definindo a altura do poste e de sua sombra."
      ]
    },
    {
      "cell_type": "code",
      "metadata": {
        "id": "CS-Hoh2ieXLN"
      },
      "source": [
        "poste = 5  # Em metros.\n",
        "sombra = 50 / 100  # Em metros."
      ],
      "execution_count": 1,
      "outputs": []
    },
    {
      "cell_type": "markdown",
      "metadata": {
        "id": "oQXOvoE5edh2"
      },
      "source": [
        "O ângulo zenital será o arc tan do seno e cosseno do triângulo, no caso, a altura da posta e o comprimento da sombra, respectivamente."
      ]
    },
    {
      "cell_type": "code",
      "metadata": {
        "id": "47FvetcvetT-",
        "outputId": "43c59050-e819-454d-9727-8ea5d1eedda3",
        "colab": {
          "base_uri": "https://localhost:8080/",
          "height": 34
        }
      },
      "source": [
        "from math import atan, degrees\n",
        "\n",
        "angulo = degrees(atan(poste / sombra))  # Em graus.\n",
        "print(f\"{angulo:.2f}°\")"
      ],
      "execution_count": 2,
      "outputs": [
        {
          "output_type": "stream",
          "text": [
            "84.29°\n"
          ],
          "name": "stdout"
        }
      ]
    }
  ]
}