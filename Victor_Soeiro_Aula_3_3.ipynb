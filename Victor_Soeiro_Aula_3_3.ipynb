{
  "nbformat": 4,
  "nbformat_minor": 0,
  "metadata": {
    "colab": {
      "name": "Victor_Soeiro_Aula_3_3.ipynb",
      "provenance": [],
      "authorship_tag": "ABX9TyP+62Ti6FaPR18PWMCHBBkv",
      "include_colab_link": true
    },
    "kernelspec": {
      "name": "python3",
      "display_name": "Python 3"
    }
  },
  "cells": [
    {
      "cell_type": "markdown",
      "metadata": {
        "id": "view-in-github",
        "colab_type": "text"
      },
      "source": [
        "<a href=\"https://colab.research.google.com/github/victor-soeiro/IntroPython-UERJ/blob/master/Victor_Soeiro_Aula_3_3.ipynb\" target=\"_parent\"><img src=\"https://colab.research.google.com/assets/colab-badge.svg\" alt=\"Open In Colab\"/></a>"
      ]
    },
    {
      "cell_type": "markdown",
      "metadata": {
        "id": "WN7NKL6ghgY3",
        "colab_type": "text"
      },
      "source": [
        "**Aula 3 - 23.09.2020**\n",
        "\n",
        "**Exercício 3:** Suponha que o preço de um livro seja 24.95 reais, porém as livrarias têm desconto de 40%. Os custos de envio são de 3.00 reais para o primeiro livro e 0.75 reais para os livros adicionais. Qual é o custo total da compra de 60 livros?"
      ]
    },
    {
      "cell_type": "markdown",
      "metadata": {
        "id": "cAlfu_e8jIh3",
        "colab_type": "text"
      },
      "source": [
        "Definindo o valor de cada um dos livros."
      ]
    },
    {
      "cell_type": "code",
      "metadata": {
        "id": "7ShZpiunjTbo",
        "colab_type": "code",
        "colab": {}
      },
      "source": [
        "valor_livros = 24.95  # Em reais."
      ],
      "execution_count": 1,
      "outputs": []
    },
    {
      "cell_type": "markdown",
      "metadata": {
        "id": "Xh0qmKPajt81",
        "colab_type": "text"
      },
      "source": [
        "Definindo a quantidade de livros."
      ]
    },
    {
      "cell_type": "code",
      "metadata": {
        "id": "Zb623O1mjuPS",
        "colab_type": "code",
        "colab": {}
      },
      "source": [
        "quantidade_livros = 60"
      ],
      "execution_count": 2,
      "outputs": []
    },
    {
      "cell_type": "markdown",
      "metadata": {
        "id": "IhHzU-NRjWqX",
        "colab_type": "text"
      },
      "source": [
        "O custo total da entrega será o valor de entrega do primeiro livro mais a entrega padrão vezes a quantidade restante dos livros."
      ]
    },
    {
      "cell_type": "code",
      "metadata": {
        "id": "IDi3snjmjWPZ",
        "colab_type": "code",
        "colab": {}
      },
      "source": [
        "custo_envio = 3 + 0.75 * (quantidade_livros - 1)  # Em reais."
      ],
      "execution_count": 3,
      "outputs": []
    },
    {
      "cell_type": "markdown",
      "metadata": {
        "id": "_6wkDNSAj6Mq",
        "colab_type": "text"
      },
      "source": [
        "Portanto, o custo final com desconto será:"
      ]
    },
    {
      "cell_type": "code",
      "metadata": {
        "id": "O_2cegbKkmkF",
        "colab_type": "code",
        "colab": {
          "base_uri": "https://localhost:8080/",
          "height": 34
        },
        "outputId": "3723cc1c-4cec-4fff-dc0a-85b7e6415d48"
      },
      "source": [
        "custo_final = custo_envio + quantidade_livros * valor_livros\n",
        "print(\"R$ {:.2f}\".format(custo_final))"
      ],
      "execution_count": 5,
      "outputs": [
        {
          "output_type": "stream",
          "text": [
            "R$ 1544.25\n"
          ],
          "name": "stdout"
        }
      ]
    }
  ]
}