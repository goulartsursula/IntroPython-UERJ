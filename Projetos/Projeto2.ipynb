{
  "nbformat": 4,
  "nbformat_minor": 0,
  "metadata": {
    "colab": {
      "name": "Perceptron.ipynb",
      "provenance": [],
      "authorship_tag": "ABX9TyMKCp9EZmus934Xs2qL0jbr",
      "include_colab_link": true
    },
    "kernelspec": {
      "name": "python3",
      "display_name": "Python 3"
    }
  },
  "cells": [
    {
      "cell_type": "markdown",
      "metadata": {
        "id": "view-in-github",
        "colab_type": "text"
      },
      "source": [
        "<a href=\"https://colab.research.google.com/github/victor-soeiro/IntroPython-UERJ/blob/master/Projetos/Perceptron.ipynb\" target=\"_parent\"><img src=\"https://colab.research.google.com/assets/colab-badge.svg\" alt=\"Open In Colab\"/></a>"
      ]
    },
    {
      "cell_type": "markdown",
      "metadata": {
        "id": "sYVgVEzvScbl"
      },
      "source": [
        "# **Projeto 2**\r\n",
        "\r\n",
        "**Montagem de uma Rede Neural usando a arquitetura Perceptron para a análise de um conjunto de flores iris.**\r\n",
        "\r\n",
        "**Criado por:** Gabriela Gonçalves, Úrsula Goulart e Victor Soeiro.\r\n",
        "\r\n",
        "[Link do Projeto](https://github.com/malbouis/Python_intro/blob/master/aulas/projetos/projeto2_perceptrons.ipynb)\r\n",
        "\r\n",
        "---"
      ]
    },
    {
      "cell_type": "markdown",
      "metadata": {
        "id": "yW-jLMHUSby7"
      },
      "source": [
        "Importando o módulo numpy para a criação da classe esqueleto do Perceptron."
      ]
    },
    {
      "cell_type": "code",
      "metadata": {
        "id": "Ns1HEUqJoOur"
      },
      "source": [
        "import numpy as np"
      ],
      "execution_count": 1,
      "outputs": []
    },
    {
      "cell_type": "markdown",
      "metadata": {
        "id": "294FJ_vySczu"
      },
      "source": [
        "Criando a classe Perceptron usando o passo-a-passo disponibilizado no link do projeto pelos professores."
      ]
    },
    {
      "cell_type": "code",
      "metadata": {
        "id": "POy_sY2VDSa-"
      },
      "source": [
        "class Perceptron:\r\n",
        "    def __init__(self, n_of_inputs, threshold=100, learning_rate=.01):\r\n",
        "        self.bias = 0\r\n",
        "        self.weights = np.zeros(n_of_inputs)\r\n",
        "        self.threshold = threshold\r\n",
        "        self.learning_rate = learning_rate\r\n",
        "\r\n",
        "    def predict(self, inputs):\r\n",
        "        return np.heaviside(np.dot(inputs, self.weights) + self.bias, 0)\r\n",
        "\r\n",
        "    def train(self, training_inputs, labels):\r\n",
        "        for _ in range(self.threshold):\r\n",
        "            for n in range(len(training_inputs)):\r\n",
        "                prediction = self.predict(training_inputs[n])\r\n",
        "                self.weights += self.learning_rate * (labels[n] - prediction) * training_inputs[n]\r\n",
        "                self.bias += self.learning_rate * (labels[n] - prediction)\r\n"
      ],
      "execution_count": 2,
      "outputs": []
    },
    {
      "cell_type": "markdown",
      "metadata": {
        "id": "VI7_GFKHV-ZR"
      },
      "source": [
        "Importando o conjunto de dados das flores iris através do módulo sklearn e a sua classe Perceptron, para uma futura comparação com a classe criada na célula acima."
      ]
    },
    {
      "cell_type": "code",
      "metadata": {
        "id": "UUe3O0NbWKSf"
      },
      "source": [
        "from sklearn.datasets import load_iris\r\n",
        "from sklearn.linear_model import Perceptron as sklearn_perceptron\r\n",
        "\r\n",
        "iris = load_iris()"
      ],
      "execution_count": 3,
      "outputs": []
    },
    {
      "cell_type": "markdown",
      "metadata": {
        "id": "y4mFJdorWRaa"
      },
      "source": [
        "Vamos ver as features das flores iris."
      ]
    },
    {
      "cell_type": "code",
      "metadata": {
        "colab": {
          "base_uri": "https://localhost:8080/"
        },
        "id": "Bmjs5VViWW_I",
        "outputId": "408c806e-23f9-49b5-b84d-fd5f973409f0"
      },
      "source": [
        "print(iris.target_names)\r\n",
        "print(iris.feature_names)"
      ],
      "execution_count": 4,
      "outputs": [
        {
          "output_type": "stream",
          "text": [
            "['setosa' 'versicolor' 'virginica']\n",
            "['sepal length (cm)', 'sepal width (cm)', 'petal length (cm)', 'petal width (cm)']\n"
          ],
          "name": "stdout"
        }
      ]
    },
    {
      "cell_type": "markdown",
      "metadata": {
        "id": "WO7fevPEWbWl"
      },
      "source": [
        "Selecionando as features *petal length* e *petal width*."
      ]
    },
    {
      "cell_type": "code",
      "metadata": {
        "id": "KYJQJg3cRIGQ"
      },
      "source": [
        "x = iris.data[:, (2, 3)]\r\n",
        "y = (iris.target == 0).astype(int)"
      ],
      "execution_count": 5,
      "outputs": []
    },
    {
      "cell_type": "markdown",
      "metadata": {
        "id": "3G2pVF7xWr1P"
      },
      "source": [
        "Vamos rodar agora o nosso Perceptron."
      ]
    },
    {
      "cell_type": "code",
      "metadata": {
        "colab": {
          "base_uri": "https://localhost:8080/"
        },
        "id": "GtsPij48Wu58",
        "outputId": "f613d831-e321-4419-f49b-af00f7368d5c"
      },
      "source": [
        "perceptron = Perceptron(2)\r\n",
        "\r\n",
        "x = iris.data[:, (2, 3)]\r\n",
        "y = (iris.target == 0).astype(int)\r\n",
        "\r\n",
        "train = perceptron.train(x, y)\r\n",
        "predict = perceptron.predict([1, 0.5])\r\n",
        "\r\n",
        "print(predict)"
      ],
      "execution_count": 6,
      "outputs": [
        {
          "output_type": "stream",
          "text": [
            "1.0\n"
          ],
          "name": "stdout"
        }
      ]
    },
    {
      "cell_type": "markdown",
      "metadata": {
        "id": "DQAlIkSEUjKk"
      },
      "source": [
        "Agora para o Perceptron do módulo *sklearn*."
      ]
    },
    {
      "cell_type": "code",
      "metadata": {
        "colab": {
          "base_uri": "https://localhost:8080/"
        },
        "id": "om4AeSp0WwAh",
        "outputId": "8e05b74c-cde1-4389-8e28-238293979093"
      },
      "source": [
        "perceptron_clf = sklearn_perceptron()\r\n",
        "perceptron_clf.fit(x, y)\r\n",
        "\r\n",
        "y_pred = perceptron_clf.predict([[1, 0.5]])\r\n",
        "print(y_pred)"
      ],
      "execution_count": 7,
      "outputs": [
        {
          "output_type": "stream",
          "text": [
            "[1]\n"
          ],
          "name": "stdout"
        }
      ]
    },
    {
      "cell_type": "markdown",
      "metadata": {
        "id": "y-yiOZlMXLmc"
      },
      "source": [
        "Portanto, vemos que o Perceptron criado resulta no mesmo valor do Perceptron do módulo sklearn. Por curiosidade, vamos realizar mais um teste."
      ]
    },
    {
      "cell_type": "code",
      "metadata": {
        "colab": {
          "base_uri": "https://localhost:8080/"
        },
        "id": "FU4m-kzlXY3_",
        "outputId": "a321b793-646b-439e-8a4d-2f0eee423b6d"
      },
      "source": [
        "# Sklearn\r\n",
        "print(perceptron_clf.predict([[4, 0.5]]))\r\n",
        "\r\n",
        "# Nosso Perceptron\r\n",
        "print(perceptron.predict([4, 0.5]))"
      ],
      "execution_count": 8,
      "outputs": [
        {
          "output_type": "stream",
          "text": [
            "[0]\n",
            "0.0\n"
          ],
          "name": "stdout"
        }
      ]
    },
    {
      "cell_type": "markdown",
      "metadata": {
        "id": "JDJLhm4HXrtc"
      },
      "source": [
        "Novamente, os dois Perceptrons resultam no mesmo valor!\r\n",
        "\r\n",
        "O Perceptron torna-se uma arquitetura de redes neurais interessante ao trabalhar com classificação binárias, como a determinação do gênero de uma pessoa.\r\n",
        "\r\n",
        "O algoritmo do Perceptron começa a falhar quando o dataset para o seu aprendizado não é linearmente separável, tal que, não conseguirá classificar o dataset corretamente. Outra limitação é a classificação binária, na qual nem todos casos torna-se aplicável."
      ]
    }
  ]
}
